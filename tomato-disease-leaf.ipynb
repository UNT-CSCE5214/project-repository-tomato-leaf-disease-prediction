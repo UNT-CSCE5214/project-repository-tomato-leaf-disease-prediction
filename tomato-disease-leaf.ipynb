{
 "cells": [
  {
   "cell_type": "markdown",
   "metadata": {},
   "source": [
    "## [1. Import Needed Modules](#import) ##\n",
    "## [2 Concept for Callback Approach](#concept) ##\n",
    "## [3. Define function to print text in rgb foreground and background colors](#pc) ##\n",
    "## [4. Read in images and create a dataframe of image paths and class labels](#makedf) ## \n",
    "## [5. Trim the trainning set](#Balance) ##\n",
    "## [6. Create train, test and validation generators](#generators) ## \n",
    "## [7. Create a function to show Training Image Samples](#show) ## \n",
    "## [8. Create the Model](#model) ## \n",
    "## [9. Create a custom Keras callback to continue or halt training](#callback) ## \n",
    "## [10. Instantiate custom callback ](#callbacks) ##\n",
    "## [11. Train the model](#train) ##\n",
    "## [12. Define a function to plot the training data](#plot) ##\n",
    "## [13. Make predictions on test set, create Confusion Matrix and Classification Report](#result) ##\n",
    "## [14 Save the model](#save) ##\n"
   ]
  },
  {
   "cell_type": "markdown",
   "metadata": {},
   "source": [
    "<a id=\"import\"></a>\n",
    "# <center>Import Need Modules</center>"
   ]
  },
  {
   "cell_type": "code",
   "execution_count": null,
   "metadata": {
    "execution": {
     "iopub.execute_input": "2022-10-02T14:24:32.731626Z",
     "iopub.status.busy": "2022-10-02T14:24:32.730414Z",
     "iopub.status.idle": "2022-10-02T14:24:35.419046Z",
     "shell.execute_reply": "2022-10-02T14:24:35.417967Z",
     "shell.execute_reply.started": "2022-10-02T14:24:32.731512Z"
    }
   },
   "outputs": [],
   "source": [
    "import pandas as pd\n",
    "import numpy as np\n",
    "import os\n",
    "os.environ['TF_CPP_MIN_LOG_LEVEL'] = '2'\n",
    "import time\n",
    "import matplotlib.pyplot as plt\n",
    "import cv2\n",
    "import seaborn as sns\n",
    "sns.set_style('darkgrid')\n",
    "import shutil\n",
    "from sklearn.metrics import confusion_matrix, classification_report\n",
    "from sklearn.model_selection import train_test_split\n",
    "import tensorflow as tf\n",
    "from tensorflow import keras\n",
    "from tensorflow.keras.preprocessing.image import ImageDataGenerator\n",
    "from tensorflow.keras.layers import Dense, Activation,Dropout,Conv2D, MaxPooling2D,BatchNormalization\n",
    "from tensorflow.keras.optimizers import Adam, Adamax\n",
    "from tensorflow.keras.metrics import categorical_crossentropy\n",
    "from tensorflow.keras import regularizers\n",
    "from tensorflow.keras.models import Model\n",
    "from tensorflow.keras import backend as K\n",
    "import time\n",
    "from tqdm import tqdm\n",
    "from sklearn.metrics import f1_score\n",
    "from IPython.display import YouTubeVideo\n",
    "import sys\n",
    "if not sys.warnoptions:\n",
    "    import warnings\n",
    "    warnings.simplefilter(\"ignore\")\n",
    "pd.set_option('display.max_columns', None)  # or 1000\n",
    "pd.set_option('display.max_rows', None)  # or 1000\n",
    "pd.set_option('display.max_colwidth', None)  # or 199\n",
    "print('All modules have been imported')"
   ]
  },
  {
   "cell_type": "markdown",
   "metadata": {},
   "source": [
    "<a id=\"concept\"></a>\n",
    "# <center>Custom Callback Concept</center>\n",
    "This notebook implements a custom callback to adjust the learning rate during training.  \n",
    "The callback has a parameter dwell. If dwell is set to True, the callback monitors the  \n",
    "validation loss. It keeps track of the lowest validation loss thus far achieved as you run  \n",
    "through each epoch and stores this as the lowest loss and also stores the weights for that  \n",
    "epoch as the best weights. At the end of an epoch the validation loss for that epoch is  \n",
    "compared with the lowest loss. If the validation loss at the end of the current epoch is  \n",
    "less than the lowest loss than it becomes the lowest loss and the weights of the current  \n",
    "epoch become the best weights  \n",
    "  \n",
    "If the validation loss at the end of the current epoch is greator than the lowest loss    \n",
    "this implies you have moved to a location in Nspace(N is the number of trainable parameters    \n",
    "on the validation cost function surface that is less favorable(higher cost) than the position  \n",
    "in Nspace defined by the best weights. Therefore why move the models weights to this less  \n",
    "favorable location? Better to reset the models weights to the best weights, then lower the  \n",
    "learning rate and run more epochs. The new learning rate is set to new_lr=current_lr * factor  \n",
    "where factor is a user specified parameter in the instantiation of the callback. By default  \n",
    "it is set to .04 and by default dwell is set to True.  \n",
    "  \n",
    "At the end of training the callback always returns your model with the weights set to the  \n",
    "best weights. The callback provides a feature where it periodically queries the user to  \n",
    "either contine and optionally manually specify a new learning rate or halt training.  \n",
    "During training the calback provides useful information on the percent improvement in the  \n",
    "validation loss for each epoch. The is useful to decide when to halt training or manually  \n",
    "specifying a new learning rate.  "
   ]
  },
  {
   "cell_type": "markdown",
   "metadata": {},
   "source": [
    "<a id=\"pc\"></a>"
   ]
  },
  {
   "cell_type": "markdown",
   "metadata": {},
   "source": [
    "<a id=\"pc\"></a>\n",
    "## <center>Define a function to print text in specified rgb foreground and background colors</center>\n",
    "### Add some PZAZZ to your printed output with this function  \n",
    "form of the call is:  print_in_color(txt_msg, fore_tupple, back_tupple where:\n",
    "* txt_msg is the string to be printed out  \n",
    "* fore_tuple is tuple of the form (r,g,b) specifying the foreground color of the text\n",
    "* back_tuple is tuple of the form (r,g,b) specifying the background color of the text"
   ]
  },
  {
   "cell_type": "code",
   "execution_count": null,
   "metadata": {
    "execution": {
     "iopub.execute_input": "2022-10-02T14:24:35.421917Z",
     "iopub.status.busy": "2022-10-02T14:24:35.420977Z",
     "iopub.status.idle": "2022-10-02T14:24:35.43262Z",
     "shell.execute_reply": "2022-10-02T14:24:35.43158Z",
     "shell.execute_reply.started": "2022-10-02T14:24:35.421877Z"
    }
   },
   "outputs": [],
   "source": [
    "def print_in_color(txt_msg,fore_tupple=(0,255,255),back_tupple=(100,100,100)):\n",
    "    #prints the text_msg in the foreground color specified by fore_tupple with the background specified by back_tupple \n",
    "    #text_msg is the text, fore_tupple is foregroud color tupple (r,g,b), back_tupple is background tupple (r,g,b)\n",
    "    # default parameter print in cyan foreground and gray background\n",
    "    rf,gf,bf=fore_tupple\n",
    "    rb,gb,bb=back_tupple\n",
    "    msg='{0}' + txt_msg\n",
    "    mat='\\33[38;2;' + str(rf) +';' + str(gf) + ';' + str(bf) + ';48;2;' + str(rb) + ';' +str(gb) + ';' + str(bb) +'m' \n",
    "    print(msg .format(mat), flush=True)\n",
    "    print('\\33[0m', flush=True) # returns default print color to back to black\n",
    "    return\n",
    "\n",
    "# example default print\n",
    "msg='test of default colors'\n",
    "print_in_color(msg)"
   ]
  },
  {
   "cell_type": "markdown",
   "metadata": {},
   "source": [
    "## Earlier run showed there are defective images that cause the ImageDataGenerator to throw an error\n",
    "## test all image files and generate a list of bad images"
   ]
  },
  {
   "cell_type": "code",
   "execution_count": null,
   "metadata": {
    "execution": {
     "iopub.execute_input": "2022-10-02T14:24:35.434674Z",
     "iopub.status.busy": "2022-10-02T14:24:35.434156Z",
     "iopub.status.idle": "2022-10-02T14:27:48.912446Z",
     "shell.execute_reply": "2022-10-02T14:27:48.91142Z",
     "shell.execute_reply.started": "2022-10-02T14:24:35.434638Z"
    }
   },
   "outputs": [],
   "source": [
    "train_dir = r'../input/tomato-disease-multiple-sources/train'\n",
    "val_dir=r'../input/tomato-disease-multiple-sources/valid'\n",
    "dirlist=[val_dir, train_dir]\n",
    "names=['valid', 'train']\n",
    "zipdir=zip(names, dirlist)\n",
    "bad_img_list=[]\n",
    "for name,d in zipdir:\n",
    "    classlist=sorted(os.listdir(d) )\n",
    "    for klass in classlist:\n",
    "        sklass=klass[:20] # some class names are very long - limit it to 20 characters\n",
    "        classpath=os.path.join(d, klass)\n",
    "        flist=os.listdir(classpath)\n",
    "        desc=f'{name:6s}-{sklass:20s}'\n",
    "        for f in tqdm(flist, ncols=130,desc=desc, unit='files', colour='blue'):\n",
    "            fpath=os.path.join(classpath,f)\n",
    "            try:\n",
    "                img=plt.imread(fpath)\n",
    "            except:\n",
    "                bad_img_list.append(fpath)\n",
    "msg='Below is a list of defective image files'\n",
    "print_in_color(msg)\n",
    "for fpath in bad_img_list:\n",
    "    print(fpath)\n",
    "        "
   ]
  },
  {
   "cell_type": "markdown",
   "metadata": {},
   "source": [
    "<a id=\"makedf\"></a>\n",
    "# <center>Read in train, test and valid images and create train, test and validation data frames</center>\n",
    "## using train, test and valid directories"
   ]
  },
  {
   "cell_type": "code",
   "execution_count": null,
   "metadata": {
    "execution": {
     "iopub.execute_input": "2022-10-02T14:27:48.916381Z",
     "iopub.status.busy": "2022-10-02T14:27:48.916101Z",
     "iopub.status.idle": "2022-10-02T14:27:49.306921Z",
     "shell.execute_reply": "2022-10-02T14:27:49.305978Z",
     "shell.execute_reply.started": "2022-10-02T14:27:48.916355Z"
    }
   },
   "outputs": [],
   "source": [
    "def make_dataframes(train_dir, val_dir):\n",
    "    dirlist=[train_dir, val_dir]\n",
    "    names=['train','valid']\n",
    "    zipdir=zip(names, dirlist)\n",
    "    for name,d in zipdir:\n",
    "        filepaths=[]\n",
    "        labels=[]\n",
    "        classlist=sorted(os.listdir(d) )       \n",
    "        for klass in classlist:\n",
    "            sklass=klass[:20] # some class names are very long - limit it to 20 characters\n",
    "            classpath=os.path.join(d, klass)           \n",
    "            flist=sorted(os.listdir(classpath)) \n",
    "            desc=f'{name:6s}-{sklass:20s}'\n",
    "            for f in tqdm(flist, ncols=130,desc=desc, unit='files', colour='blue'):\n",
    "                fpath=os.path.join(classpath,f)\n",
    "                if fpath not in bad_img_list: # do not include defective imaes in the dataframes\n",
    "                    filepaths.append(fpath)\n",
    "                    labels.append(sklass)\n",
    "        Fseries=pd.Series(filepaths, name='filepaths')\n",
    "        Lseries=pd.Series(labels, name='labels')\n",
    "        df=pd.concat([Fseries, Lseries], axis=1) \n",
    "        if name =='valid':\n",
    "            valid_df=df        \n",
    "        else:\n",
    "            pdf=df \n",
    "    train_df, test_df=train_test_split(pdf, train_size=.9, shuffle=True, random_state=123, stratify=pdf['labels'])\n",
    "    classes=sorted(train_df['labels'].unique())\n",
    "    class_count=len(classes)\n",
    "    sample_df=train_df.sample(n=50, replace=False)\n",
    "    # calculate the average image height and with\n",
    "    ht=0\n",
    "    wt=0\n",
    "    count=0\n",
    "    for i in range(len(sample_df)):\n",
    "        fpath=sample_df['filepaths'].iloc[i]\n",
    "        try:\n",
    "            img=cv2.imread(fpath)\n",
    "            h=img.shape[0]\n",
    "            w=img.shape[1]\n",
    "            wt +=w\n",
    "            ht +=h\n",
    "            count +=1\n",
    "        except:\n",
    "            pass\n",
    "    have=int(ht/count)\n",
    "    wave=int(wt/count)\n",
    "    aspect_ratio=have/wave\n",
    "    print('number of classes in processed dataset= ', class_count)    \n",
    "    counts=list(train_df['labels'].value_counts())    \n",
    "    print('the maximum files in any class in train_df is ', max(counts), '  the minimum files in any class in train_df is ', min(counts))\n",
    "    print('train_df length: ', len(train_df), '  test_df length: ', len(test_df), '  valid_df length: ', len(valid_df))  \n",
    "    print('average image height= ', have, '  average image width= ', wave, ' aspect ratio h/w= ', aspect_ratio)    \n",
    "    return train_df, test_df, valid_df, classes, class_count\n",
    "\n",
    "train_dir = r'../input/tomato-disease-multiple-sources/train'\n",
    "val_dir=r'../input/tomato-disease-multiple-sources/valid'\n",
    "train_df, test_df, valid_df, classes, class_count=make_dataframes(train_dir, val_dir)\n",
    "    "
   ]
  },
  {
   "cell_type": "markdown",
   "metadata": {},
   "source": [
    "<a id=\"trim\"></a>\n",
    "## <center>Trim train_df so no class has more than 300 images </center>\n"
   ]
  },
  {
   "cell_type": "code",
   "execution_count": null,
   "metadata": {
    "execution": {
     "iopub.execute_input": "2022-10-02T14:27:49.308619Z",
     "iopub.status.busy": "2022-10-02T14:27:49.308234Z",
     "iopub.status.idle": "2022-10-02T14:27:49.359066Z",
     "shell.execute_reply": "2022-10-02T14:27:49.358038Z",
     "shell.execute_reply.started": "2022-10-02T14:27:49.308581Z"
    }
   },
   "outputs": [],
   "source": [
    "def trim(df, max_samples, min_samples, column):\n",
    "    df=df.copy()\n",
    "    classes=df[column].unique()\n",
    "    class_count=len(classes)\n",
    "    length=len(df)\n",
    "    print ('dataframe initially is of length ',length, ' with ', class_count, ' classes')\n",
    "    groups=df.groupby(column)    \n",
    "    trimmed_df = pd.DataFrame(columns = df.columns)\n",
    "    groups=df.groupby(column)\n",
    "    for label in df[column].unique(): \n",
    "        group=groups.get_group(label)\n",
    "        count=len(group)    \n",
    "        if count > max_samples:\n",
    "            sampled_group=group.sample(n=max_samples, random_state=123,axis=0)\n",
    "            trimmed_df=pd.concat([trimmed_df, sampled_group], axis=0)\n",
    "        else:\n",
    "            if count>=min_samples:\n",
    "                sampled_group=group        \n",
    "                trimmed_df=pd.concat([trimmed_df, sampled_group], axis=0)\n",
    "    print('after trimming, the maximum samples in any class is now ',max_samples, ' and the minimum samples in any class is ', min_samples)\n",
    "    classes=trimmed_df[column].unique()# return this in case some classes have less than min_samples\n",
    "    class_count=len(classes) # return this in case some classes have less than min_samples\n",
    "    length=len(trimmed_df)\n",
    "    print ('the trimmed dataframe now is of length ',length, ' with ', class_count, ' classes')\n",
    "    return trimmed_df, classes, class_count\n",
    "\n",
    "max_samples=300  # LIMIT MAXIMUM IMAGE SAMPLES IN ANY CLASS TO 300 IMAGES TO  BALANCE THE DATASET\n",
    "min_samples=300\n",
    "column='labels'\n",
    "train_df, classes, class_count=trim(train_df, max_samples, min_samples, column)\n",
    "# validation set is very large limit it to 100 samples per class\n",
    "max_samples=100\n",
    "min_samples=100\n",
    "valid_df, classes, class_count=trim(valid_df, max_samples, min_samples, column)"
   ]
  },
  {
   "cell_type": "markdown",
   "metadata": {},
   "source": [
    "<a id=\"balance\"></a>\n",
    "## <center>Expand train_df rows with augmented images so each class has n samples</center>\n",
    "### This function is not used in this notebook\n"
   ]
  },
  {
   "cell_type": "code",
   "execution_count": null,
   "metadata": {
    "execution": {
     "iopub.execute_input": "2022-10-02T14:27:49.360941Z",
     "iopub.status.busy": "2022-10-02T14:27:49.36057Z",
     "iopub.status.idle": "2022-10-02T14:27:49.373988Z",
     "shell.execute_reply": "2022-10-02T14:27:49.372856Z",
     "shell.execute_reply.started": "2022-10-02T14:27:49.360904Z"
    }
   },
   "outputs": [],
   "source": [
    "def balance(df, n, working_dir, img_size):\n",
    "    df=df.copy()\n",
    "    print('Initial length of dataframe is ', len(df))\n",
    "    aug_dir=os.path.join(working_dir, 'aug')# directory to store augmented images\n",
    "    if os.path.isdir(aug_dir):# start with an empty directory\n",
    "        shutil.rmtree(aug_dir)\n",
    "    os.mkdir(aug_dir)        \n",
    "    for label in df['labels'].unique():    \n",
    "        dir_path=os.path.join(aug_dir,label)    \n",
    "        os.mkdir(dir_path) # make class directories within aug directory\n",
    "    # create and store the augmented images  \n",
    "    total=0\n",
    "    gen=ImageDataGenerator(horizontal_flip=True,  rotation_range=20, width_shift_range=.2,\n",
    "                                  height_shift_range=.2, zoom_range=.2)\n",
    "    groups=df.groupby('labels') # group by class\n",
    "    for label in df['labels'].unique():  # for every class               \n",
    "        group=groups.get_group(label)  # a dataframe holding only rows with the specified label \n",
    "        sample_count=len(group)   # determine how many samples there are in this class  \n",
    "        if sample_count< n: # if the class has less than target number of images\n",
    "            aug_img_count=0\n",
    "            delta=n - sample_count  # number of augmented images to create\n",
    "            target_dir=os.path.join(aug_dir, label)  # define where to write the images\n",
    "            msg='{0:40s} for class {1:^30s} creating {2:^5s} augmented images'.format(' ', label, str(delta))\n",
    "            print(msg, '\\r', end='') # prints over on the same line\n",
    "            aug_gen=gen.flow_from_dataframe( group,  x_col='filepaths', y_col=None, target_size=img_size,\n",
    "                                            class_mode=None, batch_size=1, shuffle=False, \n",
    "                                            save_to_dir=target_dir, save_prefix='aug-', color_mode='rgb',\n",
    "                                            save_format='jpg')\n",
    "            while aug_img_count<delta:\n",
    "                images=next(aug_gen)            \n",
    "                aug_img_count += len(images)\n",
    "            total +=aug_img_count\n",
    "    print('Total Augmented images created= ', total)\n",
    "    # create aug_df and merge with train_df to create composite training set ndf\n",
    "    aug_fpaths=[]\n",
    "    aug_labels=[]\n",
    "    classlist=os.listdir(aug_dir)\n",
    "    for klass in classlist:\n",
    "        classpath=os.path.join(aug_dir, klass)     \n",
    "        flist=os.listdir(classpath)    \n",
    "        for f in flist:        \n",
    "            fpath=os.path.join(classpath,f)         \n",
    "            aug_fpaths.append(fpath)\n",
    "            aug_labels.append(klass)\n",
    "    Fseries=pd.Series(aug_fpaths, name='filepaths')\n",
    "    Lseries=pd.Series(aug_labels, name='labels')\n",
    "    aug_df=pd.concat([Fseries, Lseries], axis=1)         \n",
    "    df=pd.concat([df,aug_df], axis=0).reset_index(drop=True)\n",
    "    print('Length of augmented dataframe is now ', len(df))\n",
    "    return df \n"
   ]
  },
  {
   "cell_type": "code",
   "execution_count": null,
   "metadata": {
    "execution": {
     "iopub.execute_input": "2022-10-02T14:27:49.376239Z",
     "iopub.status.busy": "2022-10-02T14:27:49.375878Z",
     "iopub.status.idle": "2022-10-02T14:27:49.387153Z",
     "shell.execute_reply": "2022-10-02T14:27:49.386187Z",
     "shell.execute_reply.started": "2022-10-02T14:27:49.376201Z"
    }
   },
   "outputs": [],
   "source": [
    "working_dir=r'./'\n",
    "img_size = (200,200)"
   ]
  },
  {
   "cell_type": "markdown",
   "metadata": {},
   "source": [
    "<a id=\"generators\"></a>\n",
    "# <center>Create the train_gen, test_gen final_test_gen and valid_gen</center>"
   ]
  },
  {
   "cell_type": "code",
   "execution_count": null,
   "metadata": {
    "execution": {
     "iopub.execute_input": "2022-10-02T14:27:49.388883Z",
     "iopub.status.busy": "2022-10-02T14:27:49.388491Z",
     "iopub.status.idle": "2022-10-02T14:27:52.268386Z",
     "shell.execute_reply": "2022-10-02T14:27:52.261822Z",
     "shell.execute_reply.started": "2022-10-02T14:27:49.388846Z"
    },
    "scrolled": true
   },
   "outputs": [],
   "source": [
    "def make_gens(batch_size, train_df, test_df, valid_df, img_size):\n",
    "    trgen=ImageDataGenerator(horizontal_flip=True)    \n",
    "    t_and_v_gen=ImageDataGenerator()\n",
    "    msg='{0:70s} for train generator'.format(' ')\n",
    "    print(msg, '\\r', end='') # prints over on the same line\n",
    "    train_gen=trgen.flow_from_dataframe(train_df, x_col='filepaths', y_col='labels', target_size=img_size,\n",
    "                                       class_mode='categorical', color_mode='rgb', shuffle=True, batch_size=batch_size)\n",
    "    msg='{0:70s} for valid generator'.format(' ')\n",
    "    print(msg, '\\r', end='') # prints over on the same line\n",
    "    valid_gen=t_and_v_gen.flow_from_dataframe(valid_df, x_col='filepaths', y_col='labels', target_size=img_size,\n",
    "                                       class_mode='categorical', color_mode='rgb', shuffle=False, batch_size=batch_size)\n",
    "    # for the test_gen we want to calculate the batch size and test steps such that batch_size X test_steps= number of samples in test set\n",
    "    # this insures that we go through all the sample in the test set exactly once.\n",
    "    length=len(test_df)\n",
    "    test_batch_size=sorted([int(length/n) for n in range(1,length+1) if length % n ==0 and length/n<=80],reverse=True)[0]  \n",
    "    test_steps=int(length/test_batch_size)    \n",
    "    msg='{0:70s} for test generator'.format(' ')\n",
    "    print(msg, '\\r', end='') # prints over on the same line\n",
    "    test_gen=t_and_v_gen.flow_from_dataframe(test_df, x_col='filepaths', y_col='labels', target_size=img_size,\n",
    "                                       class_mode='categorical', color_mode='rgb', shuffle=False, batch_size=test_batch_size)\n",
    "    # from the generator we can get information we will need later\n",
    "    classes=list(train_gen.class_indices.keys())\n",
    "    class_indices=list(train_gen.class_indices.values())\n",
    "    class_count=len(classes)\n",
    "    labels=test_gen.labels\n",
    "    print ( 'test batch size: ' ,test_batch_size, '  test steps: ', test_steps, ' number of classes : ', class_count)\n",
    "    return train_gen, test_gen, valid_gen, test_batch_size, test_steps, classes\n",
    "\n",
    "\n",
    "batch_size=30\n",
    "train_gen, test_gen, valid_gen, test_batch_size, test_steps, classes=make_gens(batch_size, train_df, test_df, valid_df, img_size)\n"
   ]
  },
  {
   "cell_type": "markdown",
   "metadata": {},
   "source": [
    "<a id=\"show\"></a>\n",
    "# <center>Create a function to show example training images</center>"
   ]
  },
  {
   "cell_type": "code",
   "execution_count": null,
   "metadata": {
    "execution": {
     "iopub.execute_input": "2022-10-02T14:27:52.275019Z",
     "iopub.status.busy": "2022-10-02T14:27:52.272402Z",
     "iopub.status.idle": "2022-10-02T14:27:55.109395Z",
     "shell.execute_reply": "2022-10-02T14:27:55.108125Z",
     "shell.execute_reply.started": "2022-10-02T14:27:52.274977Z"
    }
   },
   "outputs": [],
   "source": [
    "def show_image_samples(gen ):\n",
    "    t_dict=gen.class_indices\n",
    "    classes=list(t_dict.keys())    \n",
    "    images,labels=next(gen) # get a sample batch from the generator \n",
    "    plt.figure(figsize=(25, 25))\n",
    "    length=len(labels)\n",
    "    if length<25:   #show maximum of 25 images\n",
    "        r=length\n",
    "    else:\n",
    "        r=25\n",
    "    for i in range(r):        \n",
    "        plt.subplot(5, 5, i + 1)\n",
    "        image=images[i] /255       \n",
    "        plt.imshow(image)\n",
    "        index=np.argmax(labels[i])\n",
    "        class_name=classes[index]\n",
    "        plt.title(class_name, color='blue', fontsize=18)\n",
    "        plt.axis('off')\n",
    "    plt.show()\n",
    "    \n",
    "show_image_samples(train_gen )"
   ]
  },
  {
   "cell_type": "code",
   "execution_count": null,
   "metadata": {
    "execution": {
     "iopub.execute_input": "2022-10-02T14:27:55.115116Z",
     "iopub.status.busy": "2022-10-02T14:27:55.114349Z",
     "iopub.status.idle": "2022-10-02T14:28:00.725158Z",
     "shell.execute_reply": "2022-10-02T14:28:00.724243Z",
     "shell.execute_reply.started": "2022-10-02T14:27:55.115063Z"
    }
   },
   "outputs": [],
   "source": [
    "def make_model(img_size, lr, mod_num=3):  \n",
    "    img_shape=(img_size[0], img_size[1], 3)\n",
    "    if mod_num == 0:\n",
    "        base_model=tf.keras.applications.efficientnet.EfficientNetB0(include_top=False, weights=\"imagenet\",input_shape=img_shape, pooling='max')\n",
    "        msg='Created EfficientNet B0 model'\n",
    "    elif mod_num == 3:\n",
    "        base_model=tf.keras.applications.efficientnet.EfficientNetB3(include_top=False, weights=\"imagenet\",input_shape=img_shape, pooling='max') \n",
    "        msg='Created EfficientNet B3 model'\n",
    "    elif mod_num == 5:\n",
    "        base_model=tf.keras.applications.efficientnet.EfficientNetB5(include_top=False, weights=\"imagenet\",input_shape=img_shape, pooling='max') \n",
    "        msg='Created EfficientNet B5 model'\n",
    "        \n",
    "    else:\n",
    "        base_model=tf.keras.applications.efficientnet.EfficientNetB7(include_top=False, weights=\"imagenet\",input_shape=img_shape, pooling='max')\n",
    "        msg='Created EfficientNet B7 model'   \n",
    "   \n",
    "    base_model.trainable=True\n",
    "    x=base_model.output\n",
    "    x=BatchNormalization(axis=-1, momentum=0.99, epsilon=0.001 )(x)\n",
    "    x = Dense(256, kernel_regularizer = regularizers.l2(l = 0.016),activity_regularizer=regularizers.l1(0.006),\n",
    "                    bias_regularizer=regularizers.l1(0.006) ,activation='relu')(x)\n",
    "    x=Dropout(rate=.4, seed=123)(x)       \n",
    "    output=Dense(class_count, activation='softmax')(x)\n",
    "    model=Model(inputs=base_model.input, outputs=output)\n",
    "    model.compile(Adamax(learning_rate=lr), loss='categorical_crossentropy', metrics=['accuracy']) \n",
    "    msg=msg + f' with initial learning rate set to {lr}'\n",
    "    print_in_color(msg)\n",
    "    return model\n",
    "\n",
    "lr=.001\n",
    "model=make_model(img_size, lr) # using B3 model by default"
   ]
  },
  {
   "cell_type": "code",
   "execution_count": null,
   "metadata": {
    "execution": {
     "iopub.execute_input": "2022-10-02T14:28:00.728609Z",
     "iopub.status.busy": "2022-10-02T14:28:00.727828Z",
     "iopub.status.idle": "2022-10-02T14:28:00.751246Z",
     "shell.execute_reply": "2022-10-02T14:28:00.750232Z",
     "shell.execute_reply.started": "2022-10-02T14:28:00.728569Z"
    }
   },
   "outputs": [],
   "source": [
    "class LR_ASK(keras.callbacks.Callback):\n",
    "    def __init__ (self, model, epochs,  ask_epoch, dwell=True, factor=.4): # initialization of the callback\n",
    "        super(LR_ASK, self).__init__()\n",
    "        self.model=model               \n",
    "        self.ask_epoch=ask_epoch\n",
    "        self.epochs=epochs\n",
    "        self.ask=True # if True query the user on a specified epoch\n",
    "        self.lowest_vloss=np.inf\n",
    "        self.lowest_aloss=np.inf\n",
    "        self.best_weights=self.model.get_weights() # set best weights to model's initial weights\n",
    "        self.best_epoch=1\n",
    "        self.plist=[]\n",
    "        self.alist=[]\n",
    "        self.dwell= dwell\n",
    "        self.factor=factor\n",
    "        \n",
    "    def get_list(self): # define a function to return the list of % validation change\n",
    "        return self.plist, self.alist\n",
    "    def on_train_begin(self, logs=None): # this runs on the beginning of training\n",
    "        if self.ask_epoch == 0: \n",
    "            print('you set ask_epoch = 0, ask_epoch will be set to 1', flush=True)\n",
    "            self.ask_epoch=1\n",
    "        if self.ask_epoch >= self.epochs: # you are running for epochs but ask_epoch>epochs\n",
    "            print('ask_epoch >= epochs, will train for ', epochs, ' epochs', flush=True)\n",
    "            self.ask=False # do not query the user\n",
    "        if self.epochs == 1:\n",
    "            self.ask=False # running only for 1 epoch so do not query user\n",
    "        else:\n",
    "            msg =f'Training will proceed until epoch {ask_epoch} then you will be asked to' \n",
    "            print_in_color(msg )\n",
    "            msg='enter H to halt training or enter an integer for how many more epochs to run then be asked again'\n",
    "            print_in_color(msg)\n",
    "            if self.dwell:\n",
    "                msg='learning rate will be automatically adjusted during training'\n",
    "                print_in_color(msg, (0,255,0))\n",
    "        self.start_time= time.time() # set the time at which training started\n",
    "       \n",
    "    def on_train_end(self, logs=None):   # runs at the end of training  \n",
    "        msg=f'loading model with weights from epoch {self.best_epoch}'\n",
    "        print_in_color(msg, (0,255,255))\n",
    "        model.set_weights(self.best_weights) # set the weights of the model to the best weights\n",
    "        tr_duration=time.time() - self.start_time   # determine how long the training cycle lasted         \n",
    "        hours = tr_duration // 3600\n",
    "        minutes = (tr_duration - (hours * 3600)) // 60\n",
    "        seconds = tr_duration - ((hours * 3600) + (minutes * 60))\n",
    "        msg = f'training elapsed time was {str(hours)} hours, {minutes:4.1f} minutes, {seconds:4.2f} seconds)'\n",
    "        print_in_color (msg) # print out training duration time\n",
    "        \n",
    "    def on_epoch_end(self, epoch, logs=None):  # method runs on the end of each epoch\n",
    "        vloss=logs.get('val_loss')  # get the validation loss for this epoch\n",
    "        aloss=logs.get('loss')\n",
    "        if epoch >0:\n",
    "            deltav = self.lowest_vloss- vloss \n",
    "            pimprov=(deltav/self.lowest_vloss) * 100 \n",
    "            self.plist.append(pimprov)\n",
    "            deltaa=self.lowest_aloss-aloss\n",
    "            aimprov=(deltaa/self.lowest_aloss) * 100\n",
    "            self.alist.append(aimprov)\n",
    "        else:\n",
    "            pimprov=0.0 \n",
    "            aimprov=0.0\n",
    "        if vloss< self.lowest_vloss:\n",
    "            self.lowest_vloss=vloss\n",
    "            self.best_weights=self.model.get_weights() # set best weights to model's initial weights\n",
    "            self.best_epoch=epoch + 1            \n",
    "            msg=f'\\n validation loss of {vloss:7.4f} is {pimprov:7.4f} % below lowest loss, saving weights from epoch {str(epoch + 1):3s} as best weights'\n",
    "            print_in_color(msg, (0,255,0)) # green foreground\n",
    "        else: # validation loss increased\n",
    "            pimprov=abs(pimprov)\n",
    "            msg=f'\\n validation loss of {vloss:7.4f} is {pimprov:7.4f} % above lowest loss of {self.lowest_vloss:7.4f} keeping weights from epoch {str(self.best_epoch)} as best weights'\n",
    "            print_in_color(msg, (255,255,0)) # yellow foreground\n",
    "            if self.dwell: # if dwell is True when the validation loss increases the learning rate is automatically reduced and model weights are set to best weights\n",
    "                lr=float(tf.keras.backend.get_value(self.model.optimizer.lr)) # get the current learning rate\n",
    "                new_lr=lr * self.factor\n",
    "                msg=f'learning rate was automatically adjusted from {lr:8.6f} to {new_lr:8.6f}, model weights set to best weights'\n",
    "                print_in_color(msg) # cyan foreground\n",
    "                tf.keras.backend.set_value(self.model.optimizer.lr, new_lr) # set the learning rate in the optimizer\n",
    "                model.set_weights(self.best_weights) # set the weights of the model to the best weights      \n",
    "                \n",
    "        if aloss< self.lowest_aloss:\n",
    "            self.lowest_aloss=aloss        \n",
    "        if self.ask: # are the conditions right to query the user?\n",
    "            if epoch + 1 ==self.ask_epoch: # is this epoch the one for quering the user?\n",
    "                msg='\\n Enter H to end training or  an integer for the number of additional epochs to run then ask again'\n",
    "                print_in_color(msg) # cyan foreground\n",
    "                ans=input()\n",
    "                \n",
    "                if ans == 'H' or ans =='h' or ans == '0': # quit training for these conditions\n",
    "                    msg=f'you entered {ans},  Training halted on epoch {epoch+1} due to user input\\n'\n",
    "                    print_in_color(msg)\n",
    "                    self.model.stop_training = True # halt training\n",
    "                else: # user wants to continue training\n",
    "                    self.ask_epoch += int(ans)\n",
    "                    if self.ask_epoch > self.epochs:\n",
    "                        print('\\nYou specified maximum epochs of as ', self.epochs, ' cannot train for ', self.ask_epoch, flush =True)\n",
    "                    else:\n",
    "                        msg=f'you entered {ans} Training will continue to epoch {self.ask_epoch}'\n",
    "                        print_in_color(msg) # cyan foreground\n",
    "                        if self.dwell==False:\n",
    "                            lr=float(tf.keras.backend.get_value(self.model.optimizer.lr)) # get the current learning rate\n",
    "                            msg=f'current LR is  {lr:8.6f}  hit enter to keep  this LR or enter a new LR'\n",
    "                            print_in_color(msg) # cyan foreground\n",
    "                            ans=input(' ')\n",
    "                            if ans =='':\n",
    "                                msg=f'keeping current LR of {lr:7.5f}'\n",
    "                                print_in_color(msg) # cyan foreground\n",
    "                            else:\n",
    "                                new_lr=float(ans)\n",
    "                                tf.keras.backend.set_value(self.model.optimizer.lr, new_lr) # set the learning rate in the optimizer\n",
    "                                msg=f' changing LR to {ans}'\n",
    "                                print_in_color(msg) # cyan foreground"
   ]
  },
  {
   "cell_type": "markdown",
   "metadata": {},
   "source": [
    "<a id=\"callbacks\"></a>\n",
    "# <center>Instantiate custom callback "
   ]
  },
  {
   "cell_type": "code",
   "execution_count": null,
   "metadata": {
    "execution": {
     "iopub.execute_input": "2022-10-02T14:28:00.753679Z",
     "iopub.status.busy": "2022-10-02T14:28:00.752505Z",
     "iopub.status.idle": "2022-10-02T14:28:00.893077Z",
     "shell.execute_reply": "2022-10-02T14:28:00.892069Z",
     "shell.execute_reply.started": "2022-10-02T14:28:00.753638Z"
    }
   },
   "outputs": [],
   "source": [
    "epochs=40\n",
    "ask_epoch=20\n",
    "ask=LR_ASK(model, epochs,  ask_epoch)\n",
    "callbacks=[ask]"
   ]
  },
  {
   "cell_type": "code",
   "execution_count": null,
   "metadata": {
    "execution": {
     "iopub.execute_input": "2022-10-02T14:28:00.985917Z",
     "iopub.status.busy": "2022-10-02T14:28:00.985458Z",
     "iopub.status.idle": "2022-10-02T14:44:11.328665Z",
     "shell.execute_reply": "2022-10-02T14:44:11.327629Z",
     "shell.execute_reply.started": "2022-10-02T14:28:00.985876Z"
    }
   },
   "outputs": [],
   "source": [
    "history=model.fit(x=train_gen,  epochs=epochs, verbose=1, callbacks=callbacks,  validation_data=valid_gen,\n",
    "               validation_steps=None,  shuffle=False,  initial_epoch=0)"
   ]
  },
  {
   "cell_type": "markdown",
   "metadata": {},
   "source": [
    "<a id=\"plot\"></a>\n",
    "# <center>Define a function to plot the training data"
   ]
  },
  {
   "cell_type": "code",
   "execution_count": null,
   "metadata": {
    "execution": {
     "iopub.execute_input": "2022-10-02T14:44:11.330672Z",
     "iopub.status.busy": "2022-10-02T14:44:11.33032Z",
     "iopub.status.idle": "2022-10-02T14:44:51.918511Z",
     "shell.execute_reply": "2022-10-02T14:44:51.917621Z",
     "shell.execute_reply.started": "2022-10-02T14:44:11.330633Z"
    }
   },
   "outputs": [],
   "source": [
    "def tr_plot(tr_data, start_epoch):\n",
    "    #Plot the training and validation data\n",
    "    tacc=tr_data.history['accuracy']\n",
    "    tloss=tr_data.history['loss']\n",
    "    vacc=tr_data.history['val_accuracy']\n",
    "    vloss=tr_data.history['val_loss']\n",
    "    Epoch_count=len(tacc)+ start_epoch\n",
    "    Epochs=[]\n",
    "    for i in range (start_epoch ,Epoch_count):\n",
    "        Epochs.append(i+1)   \n",
    "    index_loss=np.argmin(vloss)#  this is the epoch with the lowest validation loss\n",
    "    val_lowest=vloss[index_loss]\n",
    "    index_acc=np.argmax(vacc)\n",
    "    acc_highest=vacc[index_acc]\n",
    "    plt.style.use('fivethirtyeight')    \n",
    "    sc_label='best epoch= '+ str(index_loss+1 +start_epoch)\n",
    "    vc_label='best epoch= '+ str(index_acc + 1+ start_epoch)\n",
    "    fig,axes=plt.subplots(nrows=1, ncols=2, figsize=(25,10))\n",
    "    axes[0].plot(Epochs,tloss, 'r', label='Training loss')\n",
    "    axes[0].plot(Epochs,vloss,'g',label='Validation loss' )\n",
    "    axes[0].scatter(index_loss+1 +start_epoch,val_lowest, s=150, c= 'blue', label=sc_label)\n",
    "    axes[0].scatter(Epochs, tloss, s=100, c='red')    \n",
    "    axes[0].set_title('Training and Validation Loss')\n",
    "    axes[0].set_xlabel('Epochs', fontsize=18)\n",
    "    axes[0].set_ylabel('Loss', fontsize=18)\n",
    "    axes[0].legend()\n",
    "    axes[1].plot (Epochs,tacc,'r',label= 'Training Accuracy')\n",
    "    axes[1].scatter(Epochs, tacc, s=100, c='red')\n",
    "    axes[1].plot (Epochs,vacc,'g',label= 'Validation Accuracy')\n",
    "    axes[1].scatter(index_acc+1 +start_epoch,acc_highest, s=150, c= 'blue', label=vc_label)\n",
    "    axes[1].set_title('Training and Validation Accuracy')\n",
    "    axes[1].set_xlabel('Epochs', fontsize=18)\n",
    "    axes[1].set_ylabel('Accuracy', fontsize=18)\n",
    "    axes[1].legend()\n",
    "    plt.tight_layout    \n",
    "    plt.show()\n",
    "    return index_loss\n",
    "    \n",
    "loss_index=tr_plot(history,0)"
   ]
  },
  {
   "cell_type": "markdown",
   "metadata": {},
   "source": [
    "<a id=\"result\"></a>\n",
    "# <center>Make Predictions on the test set</a>\n",
    "### Define a function which takes in a test generator and an integer test_steps\n",
    "### and generates predictions on the test set including a confusion matric\n",
    "### and a classification report"
   ]
  },
  {
   "cell_type": "code",
   "execution_count": null,
   "metadata": {
    "execution": {
     "iopub.execute_input": "2022-10-02T14:44:51.920944Z",
     "iopub.status.busy": "2022-10-02T14:44:51.920268Z",
     "iopub.status.idle": "2022-10-02T14:45:05.04396Z",
     "shell.execute_reply": "2022-10-02T14:45:05.043111Z",
     "shell.execute_reply.started": "2022-10-02T14:44:51.920906Z"
    }
   },
   "outputs": [],
   "source": [
    "def predictor(test_gen):    \n",
    "    y_pred= []\n",
    "    error_list=[]\n",
    "    error_pred_list = []\n",
    "    y_true=test_gen.labels\n",
    "    classes=list(test_gen.class_indices.keys())\n",
    "    class_count=len(classes)\n",
    "    errors=0\n",
    "    preds=model.predict(test_gen, verbose=1)\n",
    "    tests=len(preds)    \n",
    "    for i, p in enumerate(preds):        \n",
    "        pred_index=np.argmax(p)         \n",
    "        true_index=test_gen.labels[i]  # labels are integer values        \n",
    "        if pred_index != true_index: # a misclassification has occurred                                           \n",
    "            errors=errors + 1\n",
    "            file=test_gen.filenames[i]\n",
    "            error_list.append(file)\n",
    "            error_class=classes[pred_index]\n",
    "            error_pred_list.append(error_class)\n",
    "        y_pred.append(pred_index)\n",
    "            \n",
    "    acc=( 1-errors/tests) * 100\n",
    "    msg=f'there were {errors} errors in {tests} tests for an accuracy of {acc:6.2f}'\n",
    "    print_in_color(msg, (0,255,255), (100,100,100)) # cyan foreground\n",
    "    ypred=np.array(y_pred)\n",
    "    ytrue=np.array(y_true)\n",
    "    f1score=f1_score(ytrue, ypred, average='weighted')* 100\n",
    "    if class_count <=30:\n",
    "        cm = confusion_matrix(ytrue, ypred )\n",
    "        # plot the confusion matrix\n",
    "        plt.figure(figsize=(12, 8))\n",
    "        sns.heatmap(cm, annot=True, vmin=0, fmt='g', cmap='Blues', cbar=False)       \n",
    "        plt.xticks(np.arange(class_count)+.5, classes, rotation=90)\n",
    "        plt.yticks(np.arange(class_count)+.5, classes, rotation=0)\n",
    "        plt.xlabel(\"Predicted\")\n",
    "        plt.ylabel(\"Actual\")\n",
    "        plt.title(\"Confusion Matrix\")\n",
    "        plt.show()\n",
    "    clr = classification_report(y_true, y_pred, target_names=classes, digits= 4) # create classification report\n",
    "    print(\"Classification Report:\\n----------------------\\n\", clr)\n",
    "    return errors, tests, error_list, error_pred_list, f1score\n",
    "\n",
    "errors, tests, error_list, error_pred_list, f1score =predictor(test_gen)"
   ]
  },
  {
   "cell_type": "code",
   "execution_count": null,
   "metadata": {
    "execution": {
     "iopub.execute_input": "2022-10-02T14:45:05.050163Z",
     "iopub.status.busy": "2022-10-02T14:45:05.047984Z",
     "iopub.status.idle": "2022-10-02T14:45:05.058255Z",
     "shell.execute_reply": "2022-10-02T14:45:05.057134Z",
     "shell.execute_reply.started": "2022-10-02T14:45:05.050122Z"
    }
   },
   "outputs": [],
   "source": [
    "if len(error_list) > 0 and len(error_list)<50:\n",
    "    print ('Below is a list of test files that were miss classified \\n')\n",
    "    print ('{0:^30s}{1:^30s}'.format('Test File', ' Predicted as'))\n",
    "    sorted_list=sorted(error_list)\n",
    "    for i in range(len(sorted_list)):\n",
    "        fpath=sorted_list[i]        \n",
    "        split=fpath.split('/')        \n",
    "        f=split[4]+ '-' + split[5]\n",
    "        print(f'{f:^30s}{error_pred_list[i]:^30s}')"
   ]
  },
  {
   "cell_type": "markdown",
   "metadata": {},
   "source": [
    "<a id=\"save\"></a>\n",
    "# <center>Save the model"
   ]
  },
  {
   "cell_type": "code",
   "execution_count": null,
   "metadata": {
    "execution": {
     "iopub.execute_input": "2022-10-02T14:45:05.065172Z",
     "iopub.status.busy": "2022-10-02T14:45:05.062527Z",
     "iopub.status.idle": "2022-10-02T14:45:06.265222Z",
     "shell.execute_reply": "2022-10-02T14:45:06.264227Z",
     "shell.execute_reply.started": "2022-10-02T14:45:05.065134Z"
    }
   },
   "outputs": [],
   "source": [
    "name='Tomato disease-' + str(len(classes)) + '-(' + str(img_size[0]) + ' X ' + str(img_size[1]) + ')'\n",
    "save_id=f'{name}-{f1score:5.2f}.h5'\n",
    "model_save_loc=os.path.join(working_dir, save_id)\n",
    "model.save(model_save_loc)\n",
    "msg= f'model was saved as {model_save_loc}'\n",
    "print_in_color(msg, (0,255,255), (100,100,100)) # cyan foreground"
   ]
  },
  {
   "cell_type": "markdown",
   "metadata": {},
   "source": [
    "### Show misclassified test images and a sample image of the misclassified class"
   ]
  },
  {
   "cell_type": "code",
   "execution_count": null,
   "metadata": {
    "execution": {
     "iopub.execute_input": "2022-10-02T14:45:06.26731Z",
     "iopub.status.busy": "2022-10-02T14:45:06.266535Z",
     "iopub.status.idle": "2022-10-02T14:45:06.277651Z",
     "shell.execute_reply": "2022-10-02T14:45:06.276624Z",
     "shell.execute_reply.started": "2022-10-02T14:45:06.267271Z"
    }
   },
   "outputs": [],
   "source": [
    "if len(error_list) > 0 and len(error_list)<50: \n",
    "    msg='The images below show the test image on left and an example of an image in the  misclassified class'\n",
    "    print_in_color(msg)\n",
    "    sorted_list=sorted(error_list)\n",
    "    length=len(error_list)    \n",
    "    plt.figure(figsize=(10, length * 5))\n",
    "    for i in range(length):\n",
    "        fpath=sorted_list[i] \n",
    "        test_img=plt.imread(fpath)\n",
    "        pred_class= error_pred_list[i]\n",
    "        pred_img_path=os.path.join(test_dir, pred_class, '1.jpg')        \n",
    "        pred_img=plt.imread(pred_img_path)\n",
    "        for j in range(2):   \n",
    "            k=i*2 + j + 1            \n",
    "            plt.subplot(length, 2, k)\n",
    "            plt.axis('off')\n",
    "            if j == 0:\n",
    "                plt.imshow(test_img)\n",
    "                split=fpath.split('\\\\')\n",
    "                title=split[4]+ '-' + split[5]\n",
    "                title='TEST IMAGE\\n'+ title\n",
    "                plt.title(title, color='blue', fontsize=16)\n",
    "            else:                \n",
    "                plt.imshow(pred_img)\n",
    "                split=pred_img_path.split('\\\\')\n",
    "                title=split[4]+ '-' + split[5]\n",
    "                title='PREDICTED CLASS EXAMPLE\\n'+ title\n",
    "                plt.title(title, color='blue', fontsize=16)\n",
    "    plt.show()"
   ]
  },
  {
   "cell_type": "code",
   "execution_count": null,
   "metadata": {},
   "outputs": [],
   "source": []
  }
 ],
 "metadata": {
  "kernelspec": {
   "display_name": "Python 3",
   "language": "python",
   "name": "python3"
  },
  "language_info": {
   "codemirror_mode": {
    "name": "ipython",
    "version": 3
   },
   "file_extension": ".py",
   "mimetype": "text/x-python",
   "name": "python",
   "nbconvert_exporter": "python",
   "pygments_lexer": "ipython3",
   "version": "3.8.3"
  }
 },
 "nbformat": 4,
 "nbformat_minor": 4
}
